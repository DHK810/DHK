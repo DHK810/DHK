{
 "cells": [
  {
   "cell_type": "code",
   "execution_count": 19,
   "metadata": {},
   "outputs": [],
   "source": [
    "import requests\n",
    "\n",
    "auth_url = 'https://nid.naver.com/oauth2.0/authorize'\n",
    "CLIENT_ID = '7GLXd5X6vK5Csg_0XjrL'\n",
    "CLIENT_SECRET = 'pV8dW_VhV9'\n",
    "redirect_uri = 'http://127.0.0.1:8080'\n",
    "\n",
    "params = {\n",
    "        'client_id' : CLIENT_ID,\n",
    "        'response_type' : 'code',\n",
    "        'redirect_uri' : redirect_uri,\n",
    "        'state' : 'abcde12345'\n",
    "}\n",
    "\n",
    "#?client_id={클라이언트 아이디}&response_type=code&redirect_uri={개발자 센터에 등록한 콜백 URL(URL 인코딩)}&state={상태 토큰}''"
   ]
  },
  {
   "cell_type": "code",
   "execution_count": 20,
   "metadata": {},
   "outputs": [
    {
     "data": {
      "text/plain": [
       "'https://nid.naver.com/oauth2.0/authorize?client_id=7GLXd5X6vK5Csg_0XjrL&response_type=code&redirect_uri=http%3A%2F%2F127.0.0.1%3A8080&state=abcde12345'"
      ]
     },
     "execution_count": 20,
     "metadata": {},
     "output_type": "execute_result"
    }
   ],
   "source": [
    "resp = requests.get(auth_url, params)\n",
    "resp.url"
   ]
  },
  {
   "cell_type": "code",
   "execution_count": null,
   "metadata": {},
   "outputs": [],
   "source": []
  },
  {
   "cell_type": "code",
   "execution_count": 8,
   "metadata": {},
   "outputs": [
    {
     "data": {
      "text/plain": [
       "'https://nid.naver.com/oauth2.0/authorize?client_id=7GLXd5X6vK5Csg_0XjrL&response_type=code&redirect_uri=http%3A%2F%2F127.0.0.1%3A8080&state=abcde12345'"
      ]
     },
     "execution_count": 8,
     "metadata": {},
     "output_type": "execute_result"
    }
   ],
   "source": [
    "resp.url"
   ]
  },
  {
   "cell_type": "code",
   "execution_count": 21,
   "metadata": {},
   "outputs": [],
   "source": [
    "TOKEN_URL = 'https://nid.naver.com/oauth2.0/token'\n",
    "params = {\n",
    "        'client_id' : CLIENT_ID,\n",
    "        'client_secret' : CLIENT_SECRET,\n",
    "        'grant_type' : 'authorization_code',\n",
    "        'state' : 'abcde12345',\n",
    "        'code' : 'myTdDSuOsFkwyIZnJI'  #resp.url을 크롬으로 열어서 확인 버튼 누르면 나오는 code 값\n",
    "}\n",
    "#client_id={클라이언트 아이디}&client_secret={클라이언트 시크릿}&grant_type=authorization_code&state={상태 토큰}&code='"
   ]
  },
  {
   "cell_type": "code",
   "execution_count": 22,
   "metadata": {},
   "outputs": [],
   "source": [
    "resp = requests.get(TOKEN_URL, params)"
   ]
  },
  {
   "cell_type": "code",
   "execution_count": 23,
   "metadata": {},
   "outputs": [
    {
     "data": {
      "text/plain": [
       "b'{\"access_token\":\"AAAAOVNFCyUfISROiGvKeqGU36jFPTHx7ILxMgyhO0LhCrQZ-6yl-WxvzUJAk4MY1-eyc2EoiwVm8s3yNonVI0Fm-jM\",\"refresh_token\":\"4Fj18isQrLishDmWvGt0t82y4HMkL61SMIipg0Ojq9QaXUGAVNPwipipOCUABX2VtAe546vFCdUUqwGvtNx6biiZl7wxJKY3CS1brjisd60MSBzPw3cc25jfB1E37CxYiimtvyzW\",\"token_type\":\"bearer\",\"expires_in\":\"3600\"}'"
      ]
     },
     "execution_count": 23,
     "metadata": {},
     "output_type": "execute_result"
    }
   ],
   "source": [
    "resp\n",
    "resp.content"
   ]
  },
  {
   "cell_type": "code",
   "execution_count": 25,
   "metadata": {},
   "outputs": [
    {
     "data": {
      "text/plain": [
       "{'access_token': 'AAAAOVNFCyUfISROiGvKeqGU36jFPTHx7ILxMgyhO0LhCrQZ-6yl-WxvzUJAk4MY1-eyc2EoiwVm8s3yNonVI0Fm-jM',\n",
       " 'refresh_token': '4Fj18isQrLishDmWvGt0t82y4HMkL61SMIipg0Ojq9QaXUGAVNPwipipOCUABX2VtAe546vFCdUUqwGvtNx6biiZl7wxJKY3CS1brjisd60MSBzPw3cc25jfB1E37CxYiimtvyzW',\n",
       " 'token_type': 'bearer',\n",
       " 'expires_in': '3600'}"
      ]
     },
     "execution_count": 25,
     "metadata": {},
     "output_type": "execute_result"
    }
   ],
   "source": [
    "json_text = resp.json()\n",
    "json_text"
   ]
  },
  {
   "cell_type": "code",
   "execution_count": 27,
   "metadata": {},
   "outputs": [],
   "source": [
    "access_token = json_text['access_token']\n",
    "refresh_token = json_text['refresh_token']\n",
    "token_type = json_text['token_type']\n",
    "expires_in = json_text['expires_in']\n"
   ]
  },
  {
   "cell_type": "code",
   "execution_count": 28,
   "metadata": {},
   "outputs": [],
   "source": [
    "PROFILE_URL = 'https://openapi.naver.com/v1/nid/me' #1.6.1 Web 애플리케이션 문서에서 가져왔음\n",
    "\n",
    "headers = {\n",
    "    'Authorization' : \"{} {}\".format(token_type, access_token)\n",
    "}\n"
   ]
  },
  {
   "cell_type": "code",
   "execution_count": 32,
   "metadata": {},
   "outputs": [
    {
     "data": {
      "text/plain": [
       "b'{\"resultcode\":\"00\",\"message\":\"success\",\"response\":{\"id\":\"49526416\",\"gender\":\"M\",\"email\":\"dhkang810@naver.com\",\"name\":\"\\\\uac15\\\\ub3d9\\\\ud6c8\"}}'"
      ]
     },
     "execution_count": 32,
     "metadata": {},
     "output_type": "execute_result"
    }
   ],
   "source": [
    "resp = requests.get(PROFILE_URL, headers = headers)\n",
    "resp.content"
   ]
  },
  {
   "cell_type": "code",
   "execution_count": 34,
   "metadata": {},
   "outputs": [
    {
     "data": {
      "text/plain": [
       "{'resultcode': '00',\n",
       " 'message': 'success',\n",
       " 'response': {'id': '49526416',\n",
       "  'gender': 'M',\n",
       "  'email': 'dhkang810@naver.com',\n",
       "  'name': '강동훈'}}"
      ]
     },
     "execution_count": 34,
     "metadata": {},
     "output_type": "execute_result"
    }
   ],
   "source": [
    "resp.json()"
   ]
  },
  {
   "cell_type": "code",
   "execution_count": 36,
   "metadata": {},
   "outputs": [
    {
     "data": {
      "text/plain": [
       "<Response [200]>"
      ]
     },
     "execution_count": 36,
     "metadata": {},
     "output_type": "execute_result"
    }
   ],
   "source": [
    "cgr_list_url = 'https://openapi.naver.com/blog/listCategory.json'\n",
    "post_url = 'https://openapi.naver.com/blog/writePost.json'\n",
    "\n",
    "resp = requests.get(cgr_list_url, headers = headers)\n",
    "resp"
   ]
  },
  {
   "cell_type": "code",
   "execution_count": 38,
   "metadata": {},
   "outputs": [
    {
     "data": {
      "text/plain": [
       "{'message': {'@type': 'response',\n",
       "  '@service': 'korea.naverkoreaservice.community.blog',\n",
       "  '@version': '1.0.0',\n",
       "  'result': [{'name': '낙서장',\n",
       "    'categoryNo': 1,\n",
       "    'isOpen': False,\n",
       "    'subCategories': []},\n",
       "   {'name': '일기', 'categoryNo': 6, 'isOpen': False, 'subCategories': []},\n",
       "   {'name': '생각정리', 'categoryNo': 7, 'isOpen': False, 'subCategories': []},\n",
       "   {'name': '기업분석', 'categoryNo': 8, 'isOpen': True, 'subCategories': []},\n",
       "   {'name': '일기장', 'categoryNo': 9, 'isOpen': True, 'subCategories': []},\n",
       "   {'name': '아무거나\\xa0팔아보자',\n",
       "    'categoryNo': 10,\n",
       "    'isOpen': True,\n",
       "    'subCategories': []},\n",
       "   {'name': '영화리뷰', 'categoryNo': 11, 'isOpen': True, 'subCategories': []},\n",
       "   {'name': '읽은\\xa0책', 'categoryNo': 12, 'isOpen': True, 'subCategories': []},\n",
       "   {'name': '자문자답', 'categoryNo': 13, 'isOpen': True, 'subCategories': []},\n",
       "   {'name': '흥미로워 인터뤠스팅',\n",
       "    'categoryNo': 14,\n",
       "    'isOpen': True,\n",
       "    'subCategories': []}]}}"
      ]
     },
     "execution_count": 38,
     "metadata": {},
     "output_type": "execute_result"
    }
   ],
   "source": [
    "resp.json()\n"
   ]
  },
  {
   "cell_type": "code",
   "execution_count": null,
   "metadata": {},
   "outputs": [],
   "source": [
    "post_url = 'https://openapi.naver.com/blog/writePost.json'\n",
    "title = urllib.parse.quote(\"네이버 블로그 api Test Python\")\n",
    "contents = urllib.parse.quote(\"네이버 블로그 api로 글을 블로그에 올려봅니다.\")\n",
    "data = \"title=\" + title + \"&contents=\" + contents\n",
    "request = urllib.request.Request(url, data=data.encode(\"utf-8\"))\n",
    "request.add_header(\"Authorization\", header)\n",
    "response = urllib.request.urlopen(request)\n",
    "rescode = response.getcode()\n",
    "if(rescode==200):\n",
    "    response_body = response.read()\n",
    "    print(response_body.decode('utf-8'))\n",
    "else:\n",
    "    print(\"Error Code:\" + rescode)"
   ]
  },
  {
   "cell_type": "code",
   "execution_count": null,
   "metadata": {},
   "outputs": [],
   "source": []
  }
 ],
 "metadata": {
  "kernelspec": {
   "display_name": "Python 3",
   "language": "python",
   "name": "python3"
  },
  "language_info": {
   "codemirror_mode": {
    "name": "ipython",
    "version": 3
   },
   "file_extension": ".py",
   "mimetype": "text/x-python",
   "name": "python",
   "nbconvert_exporter": "python",
   "pygments_lexer": "ipython3",
   "version": "3.7.3"
  }
 },
 "nbformat": 4,
 "nbformat_minor": 2
}
