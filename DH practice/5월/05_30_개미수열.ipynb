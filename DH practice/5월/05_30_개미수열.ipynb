{
 "cells": [
  {
   "cell_type": "code",
   "execution_count": null,
   "metadata": {},
   "outputs": [],
   "source": [
    "1       \n",
    "11 '1'의 개수\n",
    "12 이전 숫자의 '1'의 개수\n",
    "1121\n",
    "122111\n",
    "112213\n",
    "12221131\n",
    "1123123111\n"
   ]
  },
  {
   "cell_type": "code",
   "execution_count": 16,
   "metadata": {},
   "outputs": [
    {
     "name": "stdout",
     "output_type": "stream",
     "text": [
      "12\n",
      "1212\n",
      "121212\n",
      "12121212\n",
      "12\n",
      "1212\n",
      "121212\n",
      "12121212\n"
     ]
    },
    {
     "ename": "IndexError",
     "evalue": "string index out of range",
     "output_type": "error",
     "traceback": [
      "\u001b[1;31m---------------------------------------------------------------------------\u001b[0m",
      "\u001b[1;31mIndexError\u001b[0m                                Traceback (most recent call last)",
      "\u001b[1;32m<ipython-input-16-ad60b1177644>\u001b[0m in \u001b[0;36m<module>\u001b[1;34m\u001b[0m\n\u001b[0;32m      8\u001b[0m \u001b[1;33m\u001b[0m\u001b[0m\n\u001b[0;32m      9\u001b[0m     \u001b[1;32mwhile\u001b[0m \u001b[0mj\u001b[0m \u001b[1;33m<\u001b[0m \u001b[0mlen\u001b[0m\u001b[1;33m(\u001b[0m\u001b[0mchar\u001b[0m\u001b[1;33m)\u001b[0m\u001b[1;33m:\u001b[0m\u001b[1;33m\u001b[0m\u001b[1;33m\u001b[0m\u001b[0m\n\u001b[1;32m---> 10\u001b[1;33m         \u001b[0mnow\u001b[0m \u001b[1;33m=\u001b[0m \u001b[0mchar\u001b[0m\u001b[1;33m[\u001b[0m\u001b[0mi\u001b[0m\u001b[1;33m]\u001b[0m\u001b[1;33m\u001b[0m\u001b[1;33m\u001b[0m\u001b[0m\n\u001b[0m\u001b[0;32m     11\u001b[0m         \u001b[0mcount\u001b[0m \u001b[1;33m=\u001b[0m \u001b[1;36m1\u001b[0m\u001b[1;33m\u001b[0m\u001b[1;33m\u001b[0m\u001b[0m\n\u001b[0;32m     12\u001b[0m         \u001b[1;32mif\u001b[0m \u001b[0mnow\u001b[0m \u001b[1;33m==\u001b[0m \u001b[0mchar\u001b[0m\u001b[1;33m[\u001b[0m\u001b[0mj\u001b[0m\u001b[1;33m]\u001b[0m\u001b[1;33m:\u001b[0m\u001b[1;33m\u001b[0m\u001b[1;33m\u001b[0m\u001b[0m\n",
      "\u001b[1;31mIndexError\u001b[0m: string index out of range"
     ]
    },
    {
     "ename": "IndexError",
     "evalue": "string index out of range",
     "output_type": "error",
     "traceback": [
      "\u001b[1;31m---------------------------------------------------------------------------\u001b[0m",
      "\u001b[1;31mIndexError\u001b[0m                                Traceback (most recent call last)",
      "\u001b[1;32m<ipython-input-16-ad60b1177644>\u001b[0m in \u001b[0;36m<module>\u001b[1;34m\u001b[0m\n\u001b[0;32m      8\u001b[0m \u001b[1;33m\u001b[0m\u001b[0m\n\u001b[0;32m      9\u001b[0m     \u001b[1;32mwhile\u001b[0m \u001b[0mj\u001b[0m \u001b[1;33m<\u001b[0m \u001b[0mlen\u001b[0m\u001b[1;33m(\u001b[0m\u001b[0mchar\u001b[0m\u001b[1;33m)\u001b[0m\u001b[1;33m:\u001b[0m\u001b[1;33m\u001b[0m\u001b[1;33m\u001b[0m\u001b[0m\n\u001b[1;32m---> 10\u001b[1;33m         \u001b[0mnow\u001b[0m \u001b[1;33m=\u001b[0m \u001b[0mchar\u001b[0m\u001b[1;33m[\u001b[0m\u001b[0mi\u001b[0m\u001b[1;33m]\u001b[0m\u001b[1;33m\u001b[0m\u001b[1;33m\u001b[0m\u001b[0m\n\u001b[0m\u001b[0;32m     11\u001b[0m         \u001b[0mcount\u001b[0m \u001b[1;33m=\u001b[0m \u001b[1;36m1\u001b[0m\u001b[1;33m\u001b[0m\u001b[1;33m\u001b[0m\u001b[0m\n\u001b[0;32m     12\u001b[0m         \u001b[1;32mif\u001b[0m \u001b[0mnow\u001b[0m \u001b[1;33m==\u001b[0m \u001b[0mchar\u001b[0m\u001b[1;33m[\u001b[0m\u001b[0mj\u001b[0m\u001b[1;33m]\u001b[0m\u001b[1;33m:\u001b[0m\u001b[1;33m\u001b[0m\u001b[1;33m\u001b[0m\u001b[0m\n",
      "\u001b[1;31mIndexError\u001b[0m: string index out of range"
     ]
    }
   ],
   "source": [
    "\n",
    "\n",
    "\n",
    "char = '11'\n",
    "output = ''\n",
    "for i in range(10):\n",
    "    j = 0\n",
    "    \n",
    "    while j < len(char):\n",
    "        now = char[i]\n",
    "        count = 1\n",
    "        if now == char[j]:\n",
    "            j+=1\n",
    "            count+=1\n",
    "            output += now + str(count)\n",
    "            print(output)\n",
    "\n",
    "#         if now == char[j + 1]:\n",
    "#             count += 1\n",
    "#             output += char[j]\n",
    "#             j +=1\n",
    "#         else:\n",
    "#             break\n",
    "    \n",
    "print(output)\n",
    "    \n",
    "# print(output)\n",
    "# 1. \n",
    "# 2. \n",
    "# char[i]와 char[i+1] 를 비교. 같으면 count += 1 \n",
    "# 다르면 count 없이 현재 값을 char[i+1]로 수정\n",
    "# 새로운게 없으면 종료\n",
    "\n",
    "\n",
    "\n",
    "    \n",
    "\n",
    "# 1\n",
    "# 1 - 1\n",
    "# 1 ; 2\n",
    "# 1 - 1 ; 2 - 1\n",
    "# 1 - 2 ; 2 - 1 ; 1 - 1"
   ]
  },
  {
   "cell_type": "code",
   "execution_count": 18,
   "metadata": {},
   "outputs": [
    {
     "name": "stdout",
     "output_type": "stream",
     "text": [
      "11\n",
      "12\n",
      "1121\n",
      "122111\n",
      "112213\n",
      "12221131\n",
      "1123123111\n",
      "12213111213113\n",
      "11221131132111311231\n",
      "12221231123121133112213111\n",
      "11\n",
      "12\n",
      "1121\n",
      "122111\n",
      "112213\n",
      "12221131\n",
      "1123123111\n",
      "12213111213113\n",
      "11221131132111311231\n",
      "12221231123121133112213111\n"
     ]
    }
   ],
   "source": [
    "char = \"1\"\n",
    "output = \"\"\n",
    "\n",
    "for i in range(10):\n",
    "    j = 0\n",
    "    while j < len(char):\n",
    "        curr = char[j]\n",
    "        count = 1\n",
    "        while j+1 < len(char) and curr == char[j+1]:\n",
    "            count += 1\n",
    "            j += 1\n",
    "        output += curr + str(count)\n",
    "        j += 1\n",
    "    print (output)\n",
    "    char = output\n",
    "    output = \"\"\n",
    "\n"
   ]
  }
 ],
 "metadata": {
  "kernelspec": {
   "display_name": "Python 3",
   "language": "python",
   "name": "python3"
  },
  "language_info": {
   "codemirror_mode": {
    "name": "ipython",
    "version": 3
   },
   "file_extension": ".py",
   "mimetype": "text/x-python",
   "name": "python",
   "nbconvert_exporter": "python",
   "pygments_lexer": "ipython3",
   "version": "3.7.3"
  }
 },
 "nbformat": 4,
 "nbformat_minor": 2
}
