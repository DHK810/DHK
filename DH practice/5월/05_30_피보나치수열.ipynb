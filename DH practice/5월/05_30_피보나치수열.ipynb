{
 "cells": [
  {
   "cell_type": "code",
   "execution_count": 37,
   "metadata": {},
   "outputs": [
    {
     "name": "stdout",
     "output_type": "stream",
     "text": [
      "숫자 입력하세요: 5\n",
      "[1]\n",
      "[1, 1]\n",
      "[1, 1, 2]\n",
      "[1, 1, 2, 3]\n",
      "[1, 1, 2, 3, 5]\n"
     ]
    }
   ],
   "source": [
    "num = 0\n",
    "lst = []\n",
    "\n",
    "b = int(input('숫자 입력하세요: '))\n",
    "\n",
    "for i in range(b):\n",
    "    \n",
    "    if i < 2:\n",
    "        j = 1\n",
    "        \n",
    "        lst.append(j)\n",
    "    elif i >= 2:\n",
    "        num = lst[i-2] + lst[i-1]\n",
    "        lst.append(num)\n",
    "    print(lst)"
   ]
  },
  {
   "cell_type": "code",
   "execution_count": 39,
   "metadata": {},
   "outputs": [
    {
     "data": {
      "text/plain": [
       "2"
      ]
     },
     "execution_count": 39,
     "metadata": {},
     "output_type": "execute_result"
    }
   ],
   "source": [
    "def fib(n):\n",
    "    if n in [1, 2]:\n",
    "        return 1\n",
    "    a1 = 1\n",
    "    a2 = 1\n",
    "    \n",
    "    n = n-2\n",
    "    for num in range(n):\n",
    "        nv = a1 + a2\n",
    "        a1 = a2\n",
    "        a2 = nv\n",
    "    return a2\n",
    "fib(3)"
   ]
  }
 ],
 "metadata": {
  "kernelspec": {
   "display_name": "Python 3",
   "language": "python",
   "name": "python3"
  },
  "language_info": {
   "codemirror_mode": {
    "name": "ipython",
    "version": 3
   },
   "file_extension": ".py",
   "mimetype": "text/x-python",
   "name": "python",
   "nbconvert_exporter": "python",
   "pygments_lexer": "ipython3",
   "version": "3.7.3"
  }
 },
 "nbformat": 4,
 "nbformat_minor": 2
}
