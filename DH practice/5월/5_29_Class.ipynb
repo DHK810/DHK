{
 "cells": [
  {
   "cell_type": "markdown",
   "metadata": {},
   "source": [
    "# CLASS 상속"
   ]
  },
  {
   "cell_type": "code",
   "execution_count": 11,
   "metadata": {},
   "outputs": [
    {
     "name": "stdout",
     "output_type": "stream",
     "text": [
      "10\n",
      "True\n"
     ]
    }
   ],
   "source": [
    "class Car(object):\n",
    "    def __init__(self, model, engine_rank):\n",
    "        self.model = model\n",
    "        self.engine_rank = engine_rank\n",
    "        self.__speed = 0\n",
    "        \n",
    "        \n",
    "    def accelerate(self):\n",
    "        self.__speed += 10\n",
    "        print(self.__speed)\n",
    "        return True\n",
    "    \n",
    "    def brake(self):\n",
    "        self.__speed -= 10\n",
    "        return True\n",
    "    \n",
    "class BMWCar(Car):\n",
    "    pass\n",
    "\n",
    "my_car = Car('Toyota', 'A')\n",
    "#print(dir(my_car)) # dir 역할: 해당 변수에 class(datatype)의 속성이나 method를 반환하는 함수이다.\n",
    "print(my_car.accelerate())\n",
    "\n",
    "# print(my_car.__speed) # 에러 나는게 당연. 바깥에서 접근 불가\n",
    "# my_car.accelerate()\n",
    "# print(my_car.__speed)\n",
    "\n",
    "\n",
    "# minsu_car = BMWCar('BMW', 'S')\n",
    "# print(minsu_car.model)\n",
    "# minsu_car.accelerate()\n",
    "# print(minsu_car.speed)\n",
    "\n",
    "# bmw = Car('bmw', 'S')\n",
    "# bmw.accelerate()\n",
    "# print(f'현재 속도: {bmw.speed}')\n",
    "# bmw.brake()\n",
    "# print(f'현재 속도: {bmw.speed}')\n",
    "        "
   ]
  },
  {
   "cell_type": "markdown",
   "metadata": {},
   "source": [
    "## __speed 접근하는 방법"
   ]
  },
  {
   "cell_type": "code",
   "execution_count": null,
   "metadata": {},
   "outputs": [],
   "source": []
  },
  {
   "cell_type": "code",
   "execution_count": 14,
   "metadata": {},
   "outputs": [
    {
     "data": {
      "text/plain": [
       "0"
      ]
     },
     "execution_count": 14,
     "metadata": {},
     "output_type": "execute_result"
    }
   ],
   "source": [
    "class Car(object):\n",
    "    def __init__(self, model, engine_rank):\n",
    "        self.model = model\n",
    "        self.engine_rank = engine_rank\n",
    "        self.__speed = 0\n",
    "        \n",
    "        \n",
    "    def accelerate(self):\n",
    "        self.__speed += 10\n",
    "        print(self.__speed)\n",
    "        return True\n",
    "    \n",
    "    def brake(self):\n",
    "        self.__speed -= 10\n",
    "        return True\n",
    "    \n",
    "\n",
    "bmw = Car('bmw', 'A')\n",
    "bmw._Car__speed #private으로 막힌 attribute는 _Class__atr로 접근할 수 있다.\n"
   ]
  },
  {
   "cell_type": "markdown",
   "metadata": {},
   "source": [
    "# 연습문제 1"
   ]
  },
  {
   "cell_type": "code",
   "execution_count": 15,
   "metadata": {},
   "outputs": [
    {
     "ename": "AttributeError",
     "evalue": "'Car' object has no attribute '__model'",
     "output_type": "error",
     "traceback": [
      "\u001b[1;31m---------------------------------------------------------------------------\u001b[0m",
      "\u001b[1;31mAttributeError\u001b[0m                            Traceback (most recent call last)",
      "\u001b[1;32m<ipython-input-15-bf56e308c805>\u001b[0m in \u001b[0;36m<module>\u001b[1;34m\u001b[0m\n\u001b[0;32m     15\u001b[0m \u001b[1;33m\u001b[0m\u001b[0m\n\u001b[0;32m     16\u001b[0m \u001b[0mbmw1\u001b[0m \u001b[1;33m=\u001b[0m \u001b[0mCar\u001b[0m\u001b[1;33m(\u001b[0m\u001b[1;34m'bmw'\u001b[0m\u001b[1;33m,\u001b[0m \u001b[1;34m'1000cc'\u001b[0m\u001b[1;33m,\u001b[0m \u001b[1;34m'2016'\u001b[0m\u001b[1;33m)\u001b[0m \u001b[1;31m#객체 형성\u001b[0m\u001b[1;33m\u001b[0m\u001b[1;33m\u001b[0m\u001b[0m\n\u001b[1;32m---> 17\u001b[1;33m \u001b[0mprint\u001b[0m\u001b[1;33m(\u001b[0m\u001b[0mbmw1\u001b[0m\u001b[1;33m.\u001b[0m\u001b[0m__model\u001b[0m\u001b[1;33m)\u001b[0m\u001b[1;33m\u001b[0m\u001b[1;33m\u001b[0m\u001b[0m\n\u001b[0m\u001b[0;32m     18\u001b[0m \u001b[0mbmw1\u001b[0m\u001b[1;33m.\u001b[0m\u001b[0mchange_model\u001b[0m\u001b[1;33m(\u001b[0m\u001b[1;34m'MINI'\u001b[0m\u001b[1;33m)\u001b[0m\u001b[1;33m\u001b[0m\u001b[1;33m\u001b[0m\u001b[0m\n\u001b[0;32m     19\u001b[0m \u001b[1;33m\u001b[0m\u001b[0m\n",
      "\u001b[1;31mAttributeError\u001b[0m: 'Car' object has no attribute '__model'"
     ]
    }
   ],
   "source": [
    "class Car:\n",
    "    @classmethod\n",
    "    def __init__(self, model, power, yop):\n",
    "        \n",
    "        self.__model = model\n",
    "        self.power = power\n",
    "        self.yop = yop\n",
    "    \n",
    "    def change_model(self, new_model):\n",
    "        self.__model = new_model\n",
    "        \n",
    "    def distinc(self, power):\n",
    "        if self.power == '1000cc':\n",
    "            return '소형'\n",
    "        \n",
    "bmw1 = Car('bmw', '1000cc', '2016') #객체 형성\n",
    "print(bmw1.__model)\n",
    "bmw1.change_model('MINI')\n",
    "\n",
    "print(f'차 바꿨다: {bmw1._model}')\n",
    "\n",
    "print(f'배기량: {bmw1.distinc(\"1000cc\")}')\n",
    "bmw1.model = 'asdnksf'      \n",
    "bmw1.power = '2000cc'\n",
    "print(bmw1._model)\n",
    "print(bmw1.power)\n"
   ]
  },
  {
   "cell_type": "code",
   "execution_count": 25,
   "metadata": {},
   "outputs": [
    {
     "name": "stdout",
     "output_type": "stream",
     "text": [
      "2\n"
     ]
    },
    {
     "data": {
      "text/plain": [
       "2"
      ]
     },
     "execution_count": 25,
     "metadata": {},
     "output_type": "execute_result"
    }
   ],
   "source": [
    "class Dog():\n",
    "    \n",
    "    dog_total = 0                   #클래스 속성\n",
    "    \n",
    "    @staticmethod \n",
    "    def get_eye_num():\n",
    "        return 2\n",
    "    \n",
    "    @classmethod #self가 아니다. class(Animal)전체를 handling\n",
    "    def count_dog_total(cls): \n",
    "        return cls.dog_total\n",
    "    \n",
    "    def __init__(self, name, color):  #인스턴스 속성\n",
    "        self.name = name\n",
    "        self.color = color\n",
    "        self.hungry = 0\n",
    "        Dog.dog_total += 1             #클래스 속성 접근\n",
    "    @classmethod\n",
    "    def make_new_dog(cls):\n",
    "        print(cls)\n",
    "        pass\n",
    "    @classmethod\n",
    "    def make_new_yok(cls):\n",
    "        cls.dog_total += 1\n",
    "        return (cls('yok', 'brown'))\n",
    "    \n",
    "hello = Dog('hello', 'blue')\n",
    "happy = Dog('happy', 'red')\n",
    "print(hello.get_eye_num())\n",
    "Dog.count_dog_total()"
   ]
  }
 ],
 "metadata": {
  "kernelspec": {
   "display_name": "Python 3",
   "language": "python",
   "name": "python3"
  },
  "language_info": {
   "codemirror_mode": {
    "name": "ipython",
    "version": 3
   },
   "file_extension": ".py",
   "mimetype": "text/x-python",
   "name": "python",
   "nbconvert_exporter": "python",
   "pygments_lexer": "ipython3",
   "version": "3.7.3"
  }
 },
 "nbformat": 4,
 "nbformat_minor": 2
}
