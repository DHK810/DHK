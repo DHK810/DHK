{
 "cells": [
  {
   "cell_type": "markdown",
   "metadata": {},
   "source": [
    "# 함수 정의"
   ]
  },
  {
   "cell_type": "code",
   "execution_count": null,
   "metadata": {},
   "outputs": [],
   "source": []
  },
  {
   "cell_type": "markdown",
   "metadata": {},
   "source": [
    "# 인자 X / 반환값 X"
   ]
  },
  {
   "cell_type": "code",
   "execution_count": null,
   "metadata": {},
   "outputs": [],
   "source": []
  },
  {
   "cell_type": "code",
   "execution_count": null,
   "metadata": {},
   "outputs": [],
   "source": [
    "def hello_world():\n",
    "    print('hello world')\n",
    "a = hello_world()\n",
    "a\n",
    "print(a)"
   ]
  },
  {
   "cell_type": "markdown",
   "metadata": {},
   "source": [
    "# 인자 O / 반환값 X"
   ]
  },
  {
   "cell_type": "code",
   "execution_count": null,
   "metadata": {},
   "outputs": [],
   "source": [
    "def hello_name(name):\n",
    "    print('hello %s' % name)\n",
    "my_name = 'DHK'\n",
    "a = hello_name(my_name)\n",
    "print(a)"
   ]
  },
  {
   "cell_type": "markdown",
   "metadata": {},
   "source": [
    "# 인자 O / 반환값 O"
   ]
  },
  {
   "cell_type": "code",
   "execution_count": null,
   "metadata": {},
   "outputs": [],
   "source": [
    "def func_sum(num1, num2):\n",
    "    return num1 + num2\n",
    "a = func_sum(3, 5)\n",
    "print(a)"
   ]
  },
  {
   "cell_type": "markdown",
   "metadata": {},
   "source": [
    "# 인자 X / 반환값 O"
   ]
  },
  {
   "cell_type": "code",
   "execution_count": null,
   "metadata": {},
   "outputs": [],
   "source": [
    "import random\n",
    "def make_lotto_numbers():\n",
    "    return [random.randint(1,45) for x in range(6)]\n",
    "lotto_numbers = make_lotto_numbers()\n",
    "lotto_numbers\n"
   ]
  },
  {
   "cell_type": "code",
   "execution_count": null,
   "metadata": {},
   "outputs": [],
   "source": [
    "def calc(a, b):\n",
    "    return a+b, a-b, a*b, a/b\n",
    "a = int(input('정수 입력하시오'))\n",
    "b = int(input('정수 입력하시오'))\n",
    "c = calc(a,b)\n",
    "print(f'덧셈: {c[0]}, 뺄셈: {c[1]}, 곱셈: {c[2]}, 나눗셈: {c[3]}')\n",
    "print(c)"
   ]
  },
  {
   "cell_type": "markdown",
   "metadata": {},
   "source": [
    "# 연습문제2"
   ]
  },
  {
   "cell_type": "code",
   "execution_count": null,
   "metadata": {},
   "outputs": [],
   "source": []
  },
  {
   "cell_type": "code",
   "execution_count": null,
   "metadata": {},
   "outputs": [],
   "source": [
    "lis = [1, 2, 3, 1, 4, 2, 1]\n",
    "\n",
    "# def allindex(a, b):\n",
    "#     for i in range(len(a)): ##리스트a의 길이만큼 for loop 돌리고\n",
    "#         if a[i] == b:       ## 리스트의[i]번째 값이 입력한 b 값과 같으면\n",
    "#             print(a.index(b)) ##리스트에 b가 있는 index 값 출력\n",
    "#                                 ## index함수는 항상 첫번째로 보이는 값만 출력함 그래서 안되는거임\n",
    "#                                 ## list를 copy해서 copy본의 index값을 바꾸면서 print하면 가능함\n",
    "#     return \n",
    "\n",
    "# print(allindex(lis, 1))\n",
    "\n",
    "\n",
    "lis = [1,2,3,4, 1,2,3]\n",
    "\n",
    "def allindex(self, a):\n",
    "    result = []\n",
    "    for idx, i in enumerate(self):\n",
    "        if a == i:\n",
    "            result.append(idx)\n",
    "    return result\n",
    "print(allindex(lis, 2))\n",
    "            "
   ]
  },
  {
   "cell_type": "code",
   "execution_count": null,
   "metadata": {},
   "outputs": [],
   "source": []
  },
  {
   "cell_type": "markdown",
   "metadata": {},
   "source": [
    "# 연습문제2 해답"
   ]
  },
  {
   "cell_type": "code",
   "execution_count": null,
   "metadata": {},
   "outputs": [],
   "source": [
    "lis = [1, 2, 3, 1, 4, 2, 1]\n",
    "\n",
    "def allindex(lst, target):\n",
    "    result = []\n",
    "    for idx, x in enumerate(lst):      #enumerate로 인덱스값가져오기\n",
    "        if x == target:\n",
    "            result.append(idx)\n",
    "    return result\n",
    "\n",
    "\n",
    "print(allindex(lis, 1))"
   ]
  },
  {
   "cell_type": "markdown",
   "metadata": {},
   "source": [
    "# lambda"
   ]
  },
  {
   "cell_type": "code",
   "execution_count": null,
   "metadata": {},
   "outputs": [],
   "source": [
    "a = lambda x, y : x+y\n",
    "print(a(4,2))"
   ]
  },
  {
   "cell_type": "code",
   "execution_count": null,
   "metadata": {},
   "outputs": [],
   "source": [
    "(lambda name : print(\"나의 이름은: %s\" %name)) ('강동훈')"
   ]
  },
  {
   "cell_type": "code",
   "execution_count": null,
   "metadata": {},
   "outputs": [],
   "source": [
    "(lambda : 3) ()"
   ]
  },
  {
   "cell_type": "code",
   "execution_count": null,
   "metadata": {},
   "outputs": [],
   "source": [
    "def func(email, name):\n",
    "    print(\"email : \" ,  email)\n",
    "    print(\"이름 : \",  name)\n",
    "\n",
    "func(email = \"aa@aa.com\", name = \"tom\")\n",
    "x = {'email': 'aa@aa.com', 'name' : 'tom'}\n",
    "func(**x)"
   ]
  },
  {
   "cell_type": "markdown",
   "metadata": {},
   "source": [
    "# 함수응용1"
   ]
  },
  {
   "cell_type": "markdown",
   "metadata": {},
   "source": [
    "## 함수값에 리스트 사용"
   ]
  },
  {
   "cell_type": "code",
   "execution_count": null,
   "metadata": {},
   "outputs": [],
   "source": [
    "def func1(a, b, c):\n",
    "    return a+b+c\n",
    "a = list(range(3))\n",
    "func1(*a)"
   ]
  },
  {
   "cell_type": "code",
   "execution_count": null,
   "metadata": {},
   "outputs": [],
   "source": [
    "def func1(a, b, c):\n",
    "    print(f'a: {a} b: {b} c: {c}')\n",
    "    return a+b+c\n",
    "a = list(range(3))\n",
    "func1(*[10,20,30])"
   ]
  },
  {
   "cell_type": "code",
   "execution_count": null,
   "metadata": {},
   "outputs": [],
   "source": [
    "def func2(*args):\n",
    "    print(type(args))\n",
    "    print('-'*10)\n",
    "    \n",
    "    for arg in args:\n",
    "        print(arg)\n",
    "        \n",
    "    return sum(args)\n",
    "func2(1,2,3,4,5,)\n",
    "func2([1,2,3],[5,6,7])"
   ]
  },
  {
   "cell_type": "markdown",
   "metadata": {},
   "source": [
    "### 함께 사용"
   ]
  },
  {
   "cell_type": "code",
   "execution_count": null,
   "metadata": {},
   "outputs": [],
   "source": [
    "def func2_2(*args, a, b):\n",
    "    pass\n",
    "\n",
    "func2_2(1,2,3,4,5,6,7) # 컴퓨터: 어디까지가 *args야?? 구분 좀 해줘\n",
    "\n",
    "#사용자: 알았어 *args를 마지막에 넣으면 문제 해결!\n"
   ]
  },
  {
   "cell_type": "code",
   "execution_count": null,
   "metadata": {},
   "outputs": [],
   "source": [
    "def func3(a, b, *args):\n",
    "    print(f'a: {a}, b: {b}')\n",
    "    print('-' * 10)\n",
    "    \n",
    "    for arg in args:\n",
    "        print(arg)\n",
    "    return sum(args + (a,b))\n",
    "func3(1,2,3,4,5,6,7,)"
   ]
  },
  {
   "cell_type": "markdown",
   "metadata": {},
   "source": [
    "# 키워드 인수"
   ]
  },
  {
   "cell_type": "code",
   "execution_count": 16,
   "metadata": {},
   "outputs": [
    {
     "name": "stdout",
     "output_type": "stream",
     "text": [
      "이름:  강동훈\n",
      "이메일:  dhkang810@gmail.com\n",
      "이름:  강동훈\n",
      "이메일:  dhkang810@gmail.com\n",
      "이름:  강동훈\n",
      "이메일:  dhkang810@gmail.com\n"
     ]
    },
    {
     "data": {
      "text/plain": [
       "{'name': '강동훈', 'email': 'dhkang810@gmail.com'}"
      ]
     },
     "execution_count": 16,
     "metadata": {},
     "output_type": "execute_result"
    }
   ],
   "source": [
    "def func4(name, email):\n",
    "    print('이름: ', name)\n",
    "    print('이메일: ', email)\n",
    "    \n",
    "    return {\n",
    "        'name' : name,\n",
    "        'email': email\n",
    "    }\n",
    "func4(name = '강동훈', email='dhkang810@gmail.com')\n",
    "func4(email='dhkang810@gmail.com', name = '강동훈')\n",
    "func4(email = 'dhkang810@gmail.com', name = '강동훈') #앞에 키워드를 썼으면 그 후로 계쏙 키워드를 써주어야함\n",
    "\n"
   ]
  },
  {
   "cell_type": "code",
   "execution_count": 25,
   "metadata": {},
   "outputs": [
    {
     "name": "stdout",
     "output_type": "stream",
     "text": [
      "이름:  강동훈\n",
      "이메일:  dhkang810@gmail.com\n"
     ]
    },
    {
     "data": {
      "text/plain": [
       "{'name': '강동훈', 'email': 'dhkang810@gmail.com'}"
      ]
     },
     "execution_count": 25,
     "metadata": {},
     "output_type": "execute_result"
    }
   ],
   "source": [
    "profile = {\n",
    "    'email': 'dhkang810@gmail.com',\n",
    "    'name' : '강동훈'\n",
    "}\n",
    "\n",
    "func4(**profile)  # * 하나는 리스트 or tuple 연속형 자료\n",
    "                    # **두개는 딕셔너리처럼 key word 자료형"
   ]
  },
  {
   "cell_type": "code",
   "execution_count": 20,
   "metadata": {},
   "outputs": [
    {
     "name": "stdout",
     "output_type": "stream",
     "text": [
      "name: 강동훈, \n",
      "email: dhkang810@gmail, \n",
      " region: seoul\n"
     ]
    }
   ],
   "source": [
    "def func4_1(name, email, region):\n",
    "    print(f'name: {name}, \\nemail: {email}, \\n region: {region}')\n",
    "func4_1('강동훈', 'dhkang810@gmail', 'seoul')"
   ]
  },
  {
   "cell_type": "markdown",
   "metadata": {},
   "source": [
    "# 가변인수 keyword"
   ]
  },
  {
   "cell_type": "code",
   "execution_count": 27,
   "metadata": {},
   "outputs": [
    {
     "name": "stdout",
     "output_type": "stream",
     "text": [
      "<class 'dict'>\n",
      "----------\n",
      "이메일:  dhkang\n",
      "이름:  강동\n"
     ]
    },
    {
     "ename": "TypeError",
     "evalue": "func5() takes 0 positional arguments but 1 was given",
     "output_type": "error",
     "traceback": [
      "\u001b[1;31m---------------------------------------------------------------------------\u001b[0m",
      "\u001b[1;31mTypeError\u001b[0m                                 Traceback (most recent call last)",
      "\u001b[1;32m<ipython-input-27-8aa65fe03517>\u001b[0m in \u001b[0;36m<module>\u001b[1;34m\u001b[0m\n\u001b[0;32m      8\u001b[0m \u001b[0mfunc5\u001b[0m\u001b[1;33m(\u001b[0m\u001b[0mname\u001b[0m\u001b[1;33m=\u001b[0m \u001b[1;34m'강동'\u001b[0m\u001b[1;33m,\u001b[0m \u001b[0memail\u001b[0m\u001b[1;33m=\u001b[0m\u001b[1;34m'dhkang'\u001b[0m\u001b[1;33m)\u001b[0m\u001b[1;33m\u001b[0m\u001b[1;33m\u001b[0m\u001b[0m\n\u001b[0;32m      9\u001b[0m \u001b[1;33m\u001b[0m\u001b[0m\n\u001b[1;32m---> 10\u001b[1;33m \u001b[0mfunc5\u001b[0m\u001b[1;33m(\u001b[0m\u001b[0mprofile\u001b[0m\u001b[1;33m)\u001b[0m\u001b[1;33m\u001b[0m\u001b[1;33m\u001b[0m\u001b[0m\n\u001b[0m",
      "\u001b[1;31mTypeError\u001b[0m: func5() takes 0 positional arguments but 1 was given"
     ]
    }
   ],
   "source": [
    "def func5(**kwargs):\n",
    "    print(type(kwargs))\n",
    "    print('-'*10)\n",
    "    \n",
    "    print('이메일: ', kwargs['email'])\n",
    "    print('이름: ', kwargs.get('name'))\n",
    "\n",
    "func5(name= '강동', email='dhkang')\n",
    "\n",
    "func5(profile)"
   ]
  },
  {
   "cell_type": "markdown",
   "metadata": {},
   "source": [
    "# 매개변수 초기값 default arguments"
   ]
  },
  {
   "cell_type": "code",
   "execution_count": 30,
   "metadata": {},
   "outputs": [
    {
     "name": "stdout",
     "output_type": "stream",
     "text": [
      "이름:  강동훈\n",
      "이메일:  dhkang810\n",
      "나이:  20\n",
      "이름:  강동훈\n",
      "이메일:  dhkang810\n",
      "나이:  30\n"
     ]
    }
   ],
   "source": [
    "#default 값은 반드시 뒤에서부터(오른쪽)\n",
    "def func6(name, email, age=20):\n",
    "    print('이름: ', name)\n",
    "    print('이메일: ', email)\n",
    "    print('나이: ', age)\n",
    "func6('강동훈', 'dhkang810') #age값 입력 안할 시 알아서 default value 20을 호출한다.\n",
    "func6('강동훈', 'dhkang810', 30)"
   ]
  },
  {
   "cell_type": "markdown",
   "metadata": {},
   "source": [
    "# 모두 사용!"
   ]
  },
  {
   "cell_type": "code",
   "execution_count": 48,
   "metadata": {},
   "outputs": [
    {
     "name": "stdout",
     "output_type": "stream",
     "text": [
      "name:  강동훈\n",
      "email:  dhkang810@gmailcom\n",
      "age:  30\n",
      "addr:  서울\n",
      "---------- args 시작\n",
      "50\n",
      "70\n",
      "30\n",
      "20\n",
      "100\n",
      "---------- kwargs 시작\n",
      "is_korean True\n",
      "birth 1993\n"
     ]
    }
   ],
   "source": [
    "def func_last(name, email, addr= None, age= 20, *args, **kwargs):\n",
    "    print('name: ', name)\n",
    "    print('email: ', email)\n",
    "    print('age: ', age)\n",
    "    \n",
    "    if addr is None:\n",
    "        addr = '서울시'\n",
    "    print('addr: ', addr)\n",
    "    \n",
    "    print('-'*10, 'args 시작')\n",
    "    for arg in args:\n",
    "        print(arg)\n",
    "        \n",
    "    print('-'*10 ,'kwargs 시작')\n",
    "    for key in kwargs:\n",
    "        print(key, kwargs[key])\n",
    "func_last('강동훈', 'dhkang810@gmailcom', '서울', 30, 50, 70, 30, 20, 100, is_korean= True, birth='1993')\n",
    "              \n",
    "         "
   ]
  },
  {
   "cell_type": "markdown",
   "metadata": {},
   "source": [
    "# 연습문제3"
   ]
  },
  {
   "cell_type": "code",
   "execution_count": 94,
   "metadata": {},
   "outputs": [
    {
     "name": "stdout",
     "output_type": "stream",
     "text": [
      "24\n",
      "-15\n",
      "360\n"
     ]
    },
    {
     "data": {
      "text/plain": [
       "0.2"
      ]
     },
     "execution_count": 94,
     "metadata": {},
     "output_type": "execute_result"
    }
   ],
   "source": [
    "def calc(cal,*args):\n",
    "    total = 0\n",
    "    sub = 0\n",
    "    if cal == '+':\n",
    "        for i in args:\n",
    "            total += i\n",
    "        print(total)\n",
    "    \n",
    "    if cal == '-':\n",
    "        for i in args:\n",
    "            sub -= i\n",
    "        print(sub)\n",
    "    \n",
    "    if cal == '*':\n",
    "        total = 1\n",
    "        for i in args:\n",
    "            mul = i\n",
    "            total = total * mul\n",
    "        print(total)    \n",
    "    if cal == '/':\n",
    "        total = 1\n",
    "        for i in args:\n",
    "            div = i\n",
    "            \n",
    "        return total / div\n",
    "    \n",
    "a = calc('+', 2,4,5,6,7)\n",
    "b = calc('-', 1,2,3,4,5)\n",
    "c = calc('*', 3,4,5,6)\n",
    "calc('/', 2,3,4,5)"
   ]
  },
  {
   "cell_type": "markdown",
   "metadata": {},
   "source": [
    "# 연습문제 3 모범답안"
   ]
  },
  {
   "cell_type": "code",
   "execution_count": 103,
   "metadata": {},
   "outputs": [
    {
     "name": "stdout",
     "output_type": "stream",
     "text": [
      "-2\n",
      "15\n",
      "120\n"
     ]
    }
   ],
   "source": [
    "def calc(oper, *args):\n",
    "    if oper == '+':\n",
    "        return sum(args)\n",
    "    elif oper == '-':\n",
    "        \n",
    "        #공통: args[0]을 기준\n",
    "        # 1. for 문을 통해 반복을 돌린다.\n",
    "        criteria = args[0]\n",
    "#         for x in args[1:]:\n",
    "#             criteria -= x\n",
    "#         return criteria\n",
    "        \n",
    "        # 2. args[0] - (sum(args[1:])\n",
    "        return criteria - (sum(args[1:]))\n",
    "    elif oper == '*':\n",
    "        # for 문을 통해 반복을 돌린다.\n",
    "        result = 1\n",
    "        for x in args[1:]:\n",
    "            result *= x\n",
    "        return result\n",
    "            \n",
    "print(calc('-', 5,7)  )\n",
    "print(calc('+', 1,2,3,4,5))\n",
    "print(calc('*', 1,2,3,4,5))"
   ]
  },
  {
   "cell_type": "code",
   "execution_count": null,
   "metadata": {},
   "outputs": [],
   "source": []
  },
  {
   "cell_type": "markdown",
   "metadata": {},
   "source": [
    "# 연습문제4"
   ]
  },
  {
   "cell_type": "code",
   "execution_count": 91,
   "metadata": {},
   "outputs": [
    {
     "name": "stdout",
     "output_type": "stream",
     "text": [
      "최대값: 5, 최소값: 1, 평균값: 3.0\n"
     ]
    }
   ],
   "source": [
    "def calc(*args):\n",
    "    sum = 0\n",
    "    maximum = max(args)\n",
    "    minimum = min(args)\n",
    "    for i in args:    # sum(args) / len(args)\n",
    "        sum += i\n",
    "        medium = sum / len(args)\n",
    "        \n",
    "\n",
    "    print(f'최대값: {maximum}, 최소값: {minimum}, 평균값: {medium}')\n",
    "calc(1,2,3,4,5)\n",
    "    "
   ]
  }
 ],
 "metadata": {
  "kernelspec": {
   "display_name": "Python 3",
   "language": "python",
   "name": "python3"
  },
  "language_info": {
   "codemirror_mode": {
    "name": "ipython",
    "version": 3
   },
   "file_extension": ".py",
   "mimetype": "text/x-python",
   "name": "python",
   "nbconvert_exporter": "python",
   "pygments_lexer": "ipython3",
   "version": "3.7.3"
  }
 },
 "nbformat": 4,
 "nbformat_minor": 2
}
